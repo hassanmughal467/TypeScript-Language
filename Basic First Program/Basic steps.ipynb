{
 "cells": [
  {
   "cell_type": "markdown",
   "id": "4e51d842",
   "metadata": {},
   "source": [
    "- Make a ts file \n",
    "- Write some code\n",
    "- Run it with ts\n",
    "- Js file will be generated \n",
    "- Make html file\n",
    "- add js file in html file\n",
    "- and on chrome"
   ]
  },
  {
   "cell_type": "code",
   "execution_count": null,
   "id": "f49f1745",
   "metadata": {},
   "outputs": [],
   "source": []
  }
 ],
 "metadata": {
  "kernelspec": {
   "display_name": "Python 3 (ipykernel)",
   "language": "python",
   "name": "python3"
  },
  "language_info": {
   "codemirror_mode": {
    "name": "ipython",
    "version": 3
   },
   "file_extension": ".py",
   "mimetype": "text/x-python",
   "name": "python",
   "nbconvert_exporter": "python",
   "pygments_lexer": "ipython3",
   "version": "3.9.7"
  }
 },
 "nbformat": 4,
 "nbformat_minor": 5
}
